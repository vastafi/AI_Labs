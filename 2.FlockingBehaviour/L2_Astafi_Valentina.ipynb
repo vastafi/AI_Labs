{
 "cells": [
  {
   "cell_type": "markdown",
   "id": "7d252a8d",
   "metadata": {
    "id": "7d252a8d"
   },
   "source": [
    "# FCIM.M.IA - Artificial Intelligence\n",
    "\n",
    "> **Lab 2:** Flocking Behaviour \\\\\n",
    "> **Performed by:** Astafi Valentina, group TI-231M \\\\\n",
    "> **Verified by:** Mihail Gavrilita, asist. univ."
   ]
  },
  {
   "cell_type": "markdown",
   "source": [
    "## Imports and Utils"
   ],
   "metadata": {
    "id": "BPiGwyyGNsHh"
   },
   "id": "BPiGwyyGNsHh"
  },
  {
   "cell_type": "code",
   "execution_count": null,
   "id": "533fd9fa",
   "metadata": {
    "ExecuteTime": {
     "end_time": "2022-01-23T09:47:05.838671Z",
     "start_time": "2022-01-23T09:47:05.834860Z"
    },
    "id": "533fd9fa"
   },
   "outputs": [],
   "source": [
    "import math\n",
    "import random\n",
    "import SimpleGUICS2Pygame.simpleguics2pygame as simplegui"
   ]
  },
  {
   "cell_type": "markdown",
   "id": "7146ed9b",
   "metadata": {
    "id": "7146ed9b"
   },
   "source": [
    "## Task 1 -- Lorem Ipsum"
   ]
  },
  {
   "cell_type": "code",
   "execution_count": null,
   "id": "6531cedd",
   "metadata": {
    "ExecuteTime": {
     "end_time": "2022-01-23T09:47:15.094380Z",
     "start_time": "2022-01-23T09:47:15.090135Z"
    },
    "id": "6531cedd"
   },
   "outputs": [],
   "source": [
    "# Your work here"
   ]
  },
  {
   "cell_type": "markdown",
   "id": "0938e3e4",
   "metadata": {
    "id": "0938e3e4"
   },
   "source": [
    "## Task 2 -- Lorem Ipsum"
   ]
  },
  {
   "cell_type": "code",
   "execution_count": null,
   "id": "6b0859a4",
   "metadata": {
    "id": "6b0859a4"
   },
   "outputs": [],
   "source": [
    "# Your work here"
   ]
  },
  {
   "cell_type": "markdown",
   "id": "3f67a3d5",
   "metadata": {
    "id": "3f67a3d5"
   },
   "source": [
    "## Task 3 ..."
   ]
  },
  {
   "cell_type": "code",
   "execution_count": null,
   "id": "046623ad",
   "metadata": {
    "id": "046623ad"
   },
   "outputs": [],
   "source": []
  },
  {
   "cell_type": "markdown",
   "id": "0e29d59a",
   "metadata": {
    "id": "0e29d59a"
   },
   "source": [
    "## Conclusions:"
   ]
  },
  {
   "cell_type": "markdown",
   "source": [
    "*Your conclusions go here*"
   ],
   "metadata": {
    "id": "7m6C-NhzzLy8"
   },
   "id": "7m6C-NhzzLy8"
  },
  {
   "cell_type": "markdown",
   "source": [
    "## Bibliography:"
   ],
   "metadata": {
    "id": "zwGzGeqmzU-l"
   },
   "id": "zwGzGeqmzU-l"
  },
  {
   "cell_type": "markdown",
   "source": [
    "[1] Vectors in Python. Available: https://www.digitalocean.com/community/tutorials/vectors-in-python\n",
    "[2] Boids. Available: https://www.red3d.com/cwr/boids/"
   ],
   "metadata": {
    "id": "5DrArOXRzWet"
   },
   "id": "5DrArOXRzWet"
  }
 ],
 "metadata": {
  "kernelspec": {
   "display_name": "Python 3",
   "language": "python",
   "name": "python3"
  },
  "language_info": {
   "codemirror_mode": {
    "name": "ipython",
    "version": 3
   },
   "file_extension": ".py",
   "mimetype": "text/x-python",
   "name": "python",
   "nbconvert_exporter": "python",
   "pygments_lexer": "ipython3",
   "version": "3.8.8"
  },
  "toc": {
   "base_numbering": 1,
   "nav_menu": {},
   "number_sections": true,
   "sideBar": true,
   "skip_h1_title": false,
   "title_cell": "Table of Contents",
   "title_sidebar": "Contents",
   "toc_cell": false,
   "toc_position": {},
   "toc_section_display": true,
   "toc_window_display": false
  },
  "colab": {
   "provenance": []
  }
 },
 "nbformat": 4,
 "nbformat_minor": 5
}
